{
 "cells": [
  {
   "cell_type": "code",
   "execution_count": 10,
   "id": "7aa3e5f1",
   "metadata": {},
   "outputs": [
    {
     "name": "stdout",
     "output_type": "stream",
     "text": [
      "<_csv.reader object at 0x0000016838B95B80>\n",
      "\n",
      "The given training examples are:\n",
      "['sky', 'airTemp', 'humidity', 'wind', 'water', 'forecast', 'enjoySport']\n",
      "['sunny', 'warm', 'normal', 'strong', 'warm', 'same', 'yes']\n",
      "['sunny', 'warm', 'high', 'strong', 'warm', 'same', 'yes']\n",
      "['rainy', 'cold', 'high', 'strong', 'warm', 'change', 'no']\n",
      "['sunny', 'warm', 'high', 'strong', 'cool', 'change', 'yes']\n"
     ]
    }
   ],
   "source": [
    "import csv\n",
    "hypo = ['%','%','%','%','%','%'];\n",
    "\n",
    "with open('./DataSets/enjoysport.csv') as csv_file:\n",
    "    readcsv = csv.reader(csv_file, delimiter=',')\n",
    "    print(readcsv)\n",
    "    \n",
    "    data = []\n",
    "    print(\"\\nThe given training examples are:\")\n",
    "    for row in readcsv:\n",
    "        print(row)\n",
    "        if row[len(row)-1].upper() == \"YES\":\n",
    "            data.append(row)"
   ]
  },
  {
   "cell_type": "code",
   "execution_count": 11,
   "id": "58227b66",
   "metadata": {},
   "outputs": [
    {
     "name": "stdout",
     "output_type": "stream",
     "text": [
      "\n",
      "The positive examples are:\n",
      "['sunny', 'warm', 'normal', 'strong', 'warm', 'same', 'yes']\n",
      "['sunny', 'warm', 'high', 'strong', 'warm', 'same', 'yes']\n",
      "['sunny', 'warm', 'high', 'strong', 'cool', 'change', 'yes']\n",
      "\n",
      "\n"
     ]
    }
   ],
   "source": [
    "print(\"\\nThe positive examples are:\");\n",
    "for x in data:\n",
    "    print(x);\n",
    "print(\"\\n\");"
   ]
  },
  {
   "cell_type": "code",
   "execution_count": 12,
   "id": "7482403d",
   "metadata": {},
   "outputs": [
    {
     "name": "stdout",
     "output_type": "stream",
     "text": [
      "The steps of the Find-s algorithm are :\n",
      " ['%', '%', '%', '%', '%', '%']\n",
      "['sunny', 'warm', 'normal', 'strong', 'warm', 'same']\n",
      "['sunny', 'warm', '?', 'strong', 'warm', 'same']\n",
      "['sunny', 'warm', '?', 'strong', '?', '?']\n"
     ]
    }
   ],
   "source": [
    "TotalExamples = len(data);\n",
    "i=0;\n",
    "j=0;\n",
    "k=0;\n",
    "print(\"The steps of the Find-s algorithm are :\\n\",hypo);\n",
    "list = [];\n",
    "p=0;\n",
    "d=len(data[p])-1;\n",
    "for j in range(d):\n",
    "    list.append(data[i][j]);\n",
    "hypo=list;\n",
    "i=1;\n",
    "for i in range(TotalExamples):\n",
    "    for k in range(d):\n",
    "        if hypo[k]!=data[i][k]:\n",
    "            hypo[k]='?';\n",
    "            k=k+1;        \n",
    "        else:\n",
    "            hypo[k];\n",
    "    print(hypo);\n",
    "i=i+1;"
   ]
  },
  {
   "cell_type": "code",
   "execution_count": 13,
   "id": "5604e80e",
   "metadata": {},
   "outputs": [
    {
     "name": "stdout",
     "output_type": "stream",
     "text": [
      "\n",
      "The maximally specific Find-s hypothesis for the given training examples is :\n",
      "['sunny', 'warm', '?', 'strong', '?', '?']\n"
     ]
    }
   ],
   "source": [
    "print(\"\\nThe maximally specific Find-s hypothesis for the given training examples is :\");\n",
    "list=[];\n",
    "for i in range(d):\n",
    "    list.append(hypo[i]);\n",
    "print(list);"
   ]
  },
  {
   "cell_type": "code",
   "execution_count": null,
   "id": "5b053966",
   "metadata": {},
   "outputs": [],
   "source": []
  }
 ],
 "metadata": {
  "kernelspec": {
   "display_name": "Python 3 (ipykernel)",
   "language": "python",
   "name": "python3"
  },
  "language_info": {
   "codemirror_mode": {
    "name": "ipython",
    "version": 3
   },
   "file_extension": ".py",
   "mimetype": "text/x-python",
   "name": "python",
   "nbconvert_exporter": "python",
   "pygments_lexer": "ipython3",
   "version": "3.9.13"
  }
 },
 "nbformat": 4,
 "nbformat_minor": 5
}
